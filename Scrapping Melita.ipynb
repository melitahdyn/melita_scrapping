{
 "cells": [
  {
   "cell_type": "code",
   "execution_count": 38,
   "id": "1ba9c788",
   "metadata": {},
   "outputs": [],
   "source": [
    "import pandas as pd\n",
    "from selenium import webdriver\n",
    "from selenium.webdriver.chrome.service import Service\n",
    "from selenium.webdriver.common.by import By\n",
    "from selenium.webdriver.chrome.options import Options\n",
    "\n",
    "# Set up the Selenium Chrome driver (replace \"path_to_chromedriver\" with the path to your chromedriver executable)\n",
    "service = Service('path_to_chromedriver')\n",
    "options = Options()\n",
    "options.add_argument('--headless')  # Run Chrome in headless mode\n",
    "driver = webdriver.Chrome(service=service, options=options)\n",
    "\n",
    "url = 'https://www.linkedin.com/jobs/search/?currentJobId=3436945038&keywords=data%20scientist&originalSubdomain=id'\n",
    "\n",
    "# Open the URL in Chrome\n",
    "driver.get(url)\n",
    "\n",
    "# Find all job listings on the page\n",
    "job_listings = driver.find_elements(By.CLASS_NAME, 'base-card')\n",
    "\n",
    "# Create lists to store data\n",
    "titles = []\n",
    "companies = []\n",
    "locations = []\n",
    "\n",
    "# Iterate over each job listing\n",
    "for listing in job_listings:\n",
    "    # Extract job title\n",
    "    title_element = listing.find_element(By.CLASS_NAME, 'base-search-card__title')\n",
    "    title = title_element.text.strip()\n",
    "    titles.append(title)\n",
    "\n",
    "    # Extract company name\n",
    "    company_element = listing.find_element(By.CLASS_NAME, 'base-search-card__subtitle')\n",
    "    company = company_element.text.strip()\n",
    "    companies.append(company)\n",
    "\n",
    "    # Extract location\n",
    "    location_element = listing.find_element(By.CLASS_NAME, 'job-search-card__location')\n",
    "    location = location_element.text.strip()\n",
    "    locations.append(location)\n",
    "\n",
    "# Quit the driver and close all associated browser windows\n",
    "driver.quit()\n",
    "\n",
    "# Create a DataFrame using the scraped data\n",
    "data = {'Job Title': titles, 'Company': companies, 'Location': locations}\n",
    "df = pd.DataFrame(data)\n",
    "\n",
    "# Save the DataFrame to an Excel file\n",
    "df.to_excel('job_data.xlsx', index=False)\n"
   ]
  },
  {
   "cell_type": "code",
   "execution_count": null,
   "id": "9765c04a",
   "metadata": {},
   "outputs": [],
   "source": []
  }
 ],
 "metadata": {
  "kernelspec": {
   "display_name": "Python 3 (ipykernel)",
   "language": "python",
   "name": "python3"
  },
  "language_info": {
   "codemirror_mode": {
    "name": "ipython",
    "version": 3
   },
   "file_extension": ".py",
   "mimetype": "text/x-python",
   "name": "python",
   "nbconvert_exporter": "python",
   "pygments_lexer": "ipython3",
   "version": "3.9.12"
  }
 },
 "nbformat": 4,
 "nbformat_minor": 5
}
